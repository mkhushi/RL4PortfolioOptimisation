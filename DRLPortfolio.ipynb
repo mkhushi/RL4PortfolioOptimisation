{
 "cells": [
  {
   "cell_type": "markdown",
   "metadata": {
    "colab_type": "text",
    "id": "9fQDdN9d3wmg"
   },
   "source": [
    "## DATA5709 Capstone Project\n",
    "# **Portfolio Optimization with Deep Reinforcement Learning**\n",
    "\n",
    "Tae Wan, Kim (tkim0934)"
   ]
  },
  {
   "cell_type": "markdown",
   "metadata": {
    "colab_type": "text",
    "id": "MScCwplm4KfJ"
   },
   "source": [
    "# 1 - Packages"
   ]
  },
  {
   "cell_type": "code",
   "execution_count": 0,
   "metadata": {
    "colab": {
     "base_uri": "https://localhost:8080/",
     "height": 124
    },
    "colab_type": "code",
    "executionInfo": {
     "elapsed": 11353,
     "status": "ok",
     "timestamp": 1591105407370,
     "user": {
      "displayName": "Taewan Kim",
      "photoUrl": "https://lh3.googleusercontent.com/a-/AOh14GhKX1DdTDXcKx_bNWR0FKjtb6P5Ma_fOxQCZvS-=s64",
      "userId": "13184421950357533683"
     },
     "user_tz": -600
    },
    "id": "D6l0gqAwP7sZ",
    "outputId": "09409f91-fa77-4e14-db25-668ccedb9eaf"
   },
   "outputs": [
    {
     "name": "stdout",
     "output_type": "stream",
     "text": [
      "  Building wheel for yfinance (setup.py) ... \u001b[?25l\u001b[?25hdone\n",
      "\u001b[K     |████████████████████████████████| 51kB 3.6MB/s \n",
      "\u001b[?25h  Building wheel for empyrical (setup.py) ... \u001b[?25l\u001b[?25hdone\n"
     ]
    },
    {
     "name": "stderr",
     "output_type": "stream",
     "text": [
      "/usr/local/lib/python3.6/dist-packages/pandas_datareader/compat/__init__.py:7: FutureWarning: pandas.util.testing is deprecated. Use the functions in the public API at pandas.testing instead.\n",
      "  from pandas.util.testing import assert_frame_equal\n"
     ]
    }
   ],
   "source": [
    "!pip install -q yfinance\n",
    "!pip install -q empyrical\n",
    "# data handling\n",
    "import yfinance\n",
    "import numpy as np\n",
    "import pandas as pd\n",
    "from pandas_datareader import data\n",
    "from collections import deque\n",
    "from scipy.optimize import minimize\n",
    "from empyrical import sharpe_ratio, sortino_ratio, calmar_ratio\n",
    "\n",
    "# reinforcement/deep learning\n",
    "import gym\n",
    "import tensorflow as tf\n",
    "from tensorflow.keras import Model\n",
    "from tensorflow.keras.layers import Layer\n",
    "from tensorflow.keras.layers import Dense, Flatten, Reshape, concatenate\n",
    "from tensorflow.keras.layers import BatchNormalization, LayerNormalization\n",
    "from tensorflow.keras.optimizers import Adam\n",
    "from tensorflow.keras.optimizers.schedules import LearningRateSchedule\n",
    "from tensorflow.keras.activations import relu, elu, sigmoid, tanh\n",
    "from tensorflow.keras.initializers import RandomNormal, RandomUniform\n",
    "\n",
    "# miscellaneous\n",
    "import sys\n",
    "import logging\n",
    "import os.path\n",
    "import random\n",
    "import threading\n",
    "import time\n",
    "from datetime import datetime\n",
    "from enum import Enum\n",
    "from abc import abstractmethod\n",
    "from tqdm.notebook import tqdm\n",
    "\n",
    "yfinance.pdr_override()\n",
    "logging.basicConfig(stream=sys.stderr, level=logging.INFO)\n",
    "PATH = './drive/My Drive/Colab Notebooks/Prj/'\n",
    "\n",
    "# decorator for partially defined class functions\n",
    "def partial_class(partial_class):\n",
    "    def decorator(func):\n",
    "      setattr(partial_class, func.__name__, func)\n",
    "      return func\n",
    "    return decorator"
   ]
  },
  {
   "cell_type": "markdown",
   "metadata": {
    "colab_type": "text",
    "id": "yKgXO20D4QmU"
   },
   "source": [
    "# 2 - Data Provider"
   ]
  },
  {
   "cell_type": "markdown",
   "metadata": {
    "colab_type": "text",
    "id": "Llx9nVBZrPNi"
   },
   "source": [
    "## 2.1. Main Class\n",
    "`AssetData` class was implemented to provide OHLC (Open, High, Low and Close) prices, volumes and bid-ask spreads data to the environment for every step in an episode (a sequence of consecutive steps made along with the interactions between the agent and environment). A set of data for a step which the agent can interpret to guess the current state is a data sequence with a fixed window size under the assumption of *Partially Observable Markov Decision Process* (Kaelbling et al., 1998)[[6](#scrollTo=cYmM0vHOpPwN)] in this project.\n"
   ]
  },
  {
   "cell_type": "code",
   "execution_count": 0,
   "metadata": {
    "colab": {},
    "colab_type": "code",
    "id": "zekwqvCHKCKP"
   },
   "outputs": [],
   "source": [
    "class AssetData(object):\n",
    "    # define features to be included\n",
    "    feats = {'Open': 0, 'High': 1, 'Low': 2, 'Close': 3, 'Volume': 4, 'Spread': 5}\n",
    "\n",
    "    def __init__(self, assets, start_date, end_date, window, steps, asset_shuffle=False, include_cash=True):\n",
    "        self.assets = assets\n",
    "        self.start_date = start_date\n",
    "        self.end_date = end_date\n",
    "        # load each asset data\n",
    "        for (i, asset) in enumerate(self.assets):\n",
    "            if i == 0:\n",
    "                df = self._load_data(asset)\n",
    "            else:\n",
    "                df = pd.merge(df, self._load_data(asset), on='Date', how='outer')\n",
    "        self.dates = [date.strftime('%Y-%m-%d') for date in list(df.index)]\n",
    "        self.data = np.array(df.sort_index().values.reshape(len(df), len(self.assets), -1), dtype='float32')\n",
    "        self.window = window\n",
    "        self.steps = steps if steps is not None else self.data.shape[0] - window - 1\n",
    "        # generate cash data\n",
    "        if include_cash:\n",
    "            cash = np.ones((self.data.shape[0], 1, self.data.shape[2]))\n",
    "            cash[:, :, -1] = 0  # zero spread for cash\n",
    "            self.data = np.concatenate((cash, self.data), axis=1)\n",
    "            self.assets = ['CASH'] + self.assets\n",
    "        self.asset_index = [i for i in range(len(self.assets))]\n",
    "        self.asset_shuffle = asset_shuffle\n",
    "        self.reset()\n",
    "\n",
    "    def __call__(self, step):\n",
    "        assert step <= self.steps, f'The step({step}) should be less than or equal to total episode steps'\n",
    "        observation = self.data[self.offset + step - self.window:self.offset + step + 1, self.asset_index, :].copy()\n",
    "        date = self.dates[self.offset + step]\n",
    "        return observation, date\n",
    "\n",
    "    def reset(self):\n",
    "        lower_bound = self.window\n",
    "        upper_bound = self.data.shape[0] - self.steps - 1\n",
    "        if lower_bound == upper_bound:\n",
    "            self.offset = lower_bound\n",
    "        else:\n",
    "            self.offset = np.random.randint(low=lower_bound, high=upper_bound)\n",
    "        if self.asset_shuffle:\n",
    "            asset_index = [i+1 for i in range(len(self.assets)-1)]\n",
    "            np.random.shuffle(asset_index)\n",
    "            self.asset_index[1:] = asset_index"
   ]
  },
  {
   "cell_type": "markdown",
   "metadata": {
    "colab_type": "text",
    "id": "L3jxa8q0rlTO"
   },
   "source": [
    "## 2.2. Data Acquisition\n",
    "`_load_data` is a method of `AssetData` and loads designated asset data from cached files or from *Yahoo Finance* in real time. Since bid-ask spread data is not provided, the estimate from bid-ask from close, high and low prices (Abdi and Ranaldo, 2017)[[1](#scrollTo=cYmM0vHOpPwN)] is adopted. The measure for the proportional bid-ask spread is:\n",
    "$$Spread = 2\\sqrt{\\mathbb{E}[(c_t-\\eta_t)(c_t-\\eta_{t+1})]}$$\n",
    "in which $c$ is the daily close log-price and $\\eta$ is the daily mid-range, that is, the average of daily high and low log-prices."
   ]
  },
  {
   "cell_type": "code",
   "execution_count": 0,
   "metadata": {
    "colab": {},
    "colab_type": "code",
    "id": "dSQgacyjqiJ-"
   },
   "outputs": [],
   "source": [
    "@partial_class(AssetData)\n",
    "def _load_data(self, asset):\n",
    "    # load data from a file if there's any\n",
    "    file_name = PATH + f'Data/{asset}_{self.start_date}_{self.end_date}.csv'\n",
    "    if os.path.isfile(file_name):\n",
    "        df = pd.read_csv(file_name, header=[0, 1], index_col=0)\n",
    "        df.index = pd.to_datetime(df.index)\n",
    "        return df\n",
    "    # download data from Yahoo Finance\n",
    "    print(f'downloading {asset} data from Yahoo Finance')\n",
    "    df = data.get_data_yahoo(asset, self.start_date, self.end_date)\n",
    "    desired_date = datetime.strptime(self.start_date, '%Y-%m-%d')\n",
    "    actual_date = df.iloc[0].name\n",
    "    if actual_date > desired_date:\n",
    "        print(f'WARNING: the start date of {asset} is {actual_date}!!')\n",
    "    if 'Spread' in self.feats.keys():\n",
    "        # estimate proportional bid-ask spread with log prices\n",
    "        df['Eta'] = (np.log(df['High']) + np.log(df['Low'])) / 2\n",
    "        df['Spread'] = 2 * np.sqrt(np.clip((np.log(df['Close'])-df['Eta']) * (np.log(df['Close'])-df['Eta'].shift(-1)), 0, None))\n",
    "        df.iloc[-1, -1] = df.iloc[-2, -1]\n",
    "    # build columns and indexes\n",
    "    df = df[self.feats]\n",
    "    pair_cols = [(asset, feat) for feat in df.columns]\n",
    "    df.columns = pd.MultiIndex.from_tuples(pair_cols, names=['Asset', 'Field'])\n",
    "    df.to_csv(file_name)\n",
    "    return df"
   ]
  },
  {
   "cell_type": "markdown",
   "metadata": {
    "colab_type": "text",
    "id": "Kug6Xun_4ZCK"
   },
   "source": [
    "# 3 - Environment"
   ]
  },
  {
   "cell_type": "markdown",
   "metadata": {
    "colab_type": "text",
    "id": "zL0SsLluvQOe"
   },
   "source": [
    "## 3.1. Main Class\n",
    "`AssetEnv` class was implemented using [*OpenAI Gym*](https://gym.openai.com/docs/), which is one of the most popular and widely used reinforcement learning framework. By subclassing `gym.Env` class, the module has standardized form that consists of `Reset`, `Step` and `Render` function. \n",
    "\n",
    "* **Reset**: In the beginning of every episode, the function is called and returns the initial observation.\n",
    "* **Step**: With the action as its input, it returns a new observation, a reward for the action, and a flag that indicates the episode has finished or not.\n",
    "* **Render**: Render function is for visualizing the information of current step in a customized way and can be called as much as needed."
   ]
  },
  {
   "cell_type": "code",
   "execution_count": 0,
   "metadata": {
    "colab": {},
    "colab_type": "code",
    "id": "lWUVVBj39qMV"
   },
   "outputs": [],
   "source": [
    "class AssetEnv(gym.Env):\n",
    "    metadata = {'render.modes': ['human']}\n",
    "    def __init__(self, assets, start_date, end_date, window_size, episode_steps, \n",
    "                 return_type, reward_type, log_diff_prices=False, asset_shuffle=False,\n",
    "                 init_balance=100000, tran_fee_rate=0.002, slippage_rate=0.5):\n",
    "        super(AssetEnv, self).__init__()\n",
    "        self.data = AssetData(assets, start_date, end_date, window_size, episode_steps, asset_shuffle)\n",
    "        self.reward = AssetReward(return_type, reward_type)\n",
    "        self.log_diff_prices = log_diff_prices\n",
    "        self.init_balance = init_balance\n",
    "        self.init_action = np.array([1.0] + [0.0]*len(assets))\n",
    "        self.tran_fee_rate = tran_fee_rate\n",
    "        self.slippage_rate = slippage_rate\n",
    "        self.action_space = gym.spaces.Box(np.float32(0), np.float32(1), shape=(len(assets)+1,))  # including cash\n",
    "        self.observation_space = gym.spaces.Box(np.float32(0), np.inf, shape=(self.data.window, len(assets)+1, len(self.data.feats)))\n",
    "\n",
    "    def reset(self):\n",
    "        self.current_step = -1\n",
    "        self.infos = []\n",
    "        self.data.reset()\n",
    "        self.reward.reset()\n",
    "        self.shares = self.init_balance * self.init_action\n",
    "        self.portfolio_weights = np.tile(self.init_action, (self.data.window, 1))\n",
    "        self.portfolio_values = self.init_balance * np.ones(self.data.window)\n",
    "        observation, _, _, info = self.step(self.init_action)\n",
    "        return observation, info\n",
    "\n",
    "    def step(self, action):\n",
    "        self.current_step += 1\n",
    "        observation, cost = self._rebalance(action)\n",
    "        reward = self.reward(self.portfolio_values[-self.current_step-2:])\n",
    "        done = (self.portfolio_values[-1] <= 0) or (self.current_step >= self.data.steps)\n",
    "        info = {\n",
    "            'step': self.current_step,\n",
    "            'date': self.date,\n",
    "            'action': np.round(action, 3),\n",
    "            'cost': round(cost, 2),\n",
    "            'reward': round(reward, 2),\n",
    "            'portfolio_weight': np.round(self.portfolio_weights[-1, :], 3),\n",
    "            'portfolio_value': self.portfolio_values[-1]\n",
    "        }\n",
    "        self.infos.append(info)\n",
    "        return observation, reward, done, info\n",
    "\n",
    "    def render(self, mode='human', close=False):\n",
    "        print(f'step: {self.current_step}')\n",
    "        print(f'action: {self.infos[-1][\"action\"]}')\n",
    "        print(f'portfolio_weight: {self.infos[-1][\"portfolio_weight\"]}')\n",
    "        print(f'portfolio_value: {self.infos[-1][\"portfolio_value\"]}')"
   ]
  },
  {
   "cell_type": "markdown",
   "metadata": {
    "colab_type": "text",
    "id": "pjIV_UGfwHUs"
   },
   "source": [
    "## 3.2. Rebalancing\n",
    "`_rebalance` method was implemented for realistic portfolio environment as:\n",
    "* The asset is rebalanced according to the integer values of shares.\n",
    "* Transaction fee rate is considered and its default value was assumed conservatively at 20 basis points (0.2%)\n",
    "* Slippage rate is adopted and its default value is half of the bid-ask spread."
   ]
  },
  {
   "cell_type": "code",
   "execution_count": 0,
   "metadata": {
    "colab": {},
    "colab_type": "code",
    "id": "dy_BfyMKB_Kr"
   },
   "outputs": [],
   "source": [
    "@partial_class(AssetEnv)\n",
    "def _rebalance(self, action):\n",
    "    observation, date = self.data(self.current_step)\n",
    "    self.date = date\n",
    "\n",
    "    # rebalance asset shares - should be integer numbers\n",
    "    current_price = observation[-1, :, self.data.feats['Close']]\n",
    "    current_shares = self.shares\n",
    "    current_value = np.dot(current_price, current_shares)\n",
    "    rebal_shares = current_value * np.array(action) // current_price\n",
    "\n",
    "    # apply transaction cost and slippage (excluding cash)\n",
    "    bid_ask_spread = observation[-1, 1:, self.data.feats['Spread']]\n",
    "    cost_rates = self.tran_fee_rate + (bid_ask_spread * self.slippage_rate)\n",
    "    cost = (cost_rates * current_price[1:] * np.abs(current_shares[1:] - rebal_shares[1:])).sum()\n",
    "    rebal_shares[0] = np.round((current_value - np.dot(current_price[1:], rebal_shares[1:]) - cost), 2)\n",
    "    self.shares = rebal_shares\n",
    "\n",
    "    # add new portfolio value\n",
    "    portfolio_value = np.round(np.dot(current_price, self.shares), 2)\n",
    "    self.portfolio_values = np.append(self.portfolio_values[1:], portfolio_value)\n",
    "\n",
    "    # add new portfolio weight\n",
    "    portfolio_weight = (current_price * self.shares) / np.dot(current_price, self.shares)\n",
    "    self.portfolio_weights = np.append(self.portfolio_weights[1:, :], [portfolio_weight], axis=0)\n",
    "\n",
    "    # differencing of log values (excluding spreads)\n",
    "    if self.log_diff_prices:\n",
    "        observation = np.diff(np.log(observation[:, :, :-1]), axis=0)\n",
    "    else:\n",
    "        observation[1:, :, self.data.feats['Volume']] = np.diff(np.log(observation[:, :, self.data.feats['Volume']]), axis=0)\n",
    "        observation = observation[1:, :, :-1]\n",
    "    new_feature = np.expand_dims(self.portfolio_weights, axis=2)\n",
    "    observation = np.concatenate((observation, new_feature), axis=2).astype(np.float32)\n",
    "    return observation, cost"
   ]
  },
  {
   "cell_type": "markdown",
   "metadata": {
    "colab_type": "text",
    "id": "wapDJ1KzwGo0"
   },
   "source": [
    "## 3.3. Returns and Rewards"
   ]
  },
  {
   "cell_type": "markdown",
   "metadata": {
    "colab_type": "text",
    "id": "zjCp71oLxs8y"
   },
   "source": [
    "Several types and their calcuate functions were defined for returns and rewards. Most of reward functions were imported from `empyrical` package except *Differential Sharpe Ratio*, which was not implemented there."
   ]
  },
  {
   "cell_type": "code",
   "execution_count": 0,
   "metadata": {
    "colab": {},
    "colab_type": "code",
    "id": "xMgTjpZFxQjB"
   },
   "outputs": [],
   "source": [
    "class ReturnType(Enum):\n",
    "    GROSS = 0\n",
    "    NET = 1\n",
    "    LOG = 2\n",
    "\n",
    "    @classmethod\n",
    "    def get_function(cls, return_type):\n",
    "        funcs = {}\n",
    "        funcs[cls.GROSS] = lambda values: (values[1:] / values[:-1])\n",
    "        funcs[cls.NET] = lambda values: (values[1:] / values[:-1]) - 1\n",
    "        funcs[cls.LOG] = lambda values: np.diff(np.log(values))\n",
    "        return funcs[return_type]\n",
    "\n",
    "class RewardType(Enum):\n",
    "    DIFF_SHARPE = 0\n",
    "    SHARPE = 1\n",
    "    SORTINO = 2\n",
    "\n",
    "    @classmethod\n",
    "    def get_function(cls, reward_type):\n",
    "        funcs = {}\n",
    "        funcs[cls.DIFF_SHARPE] = None\n",
    "        funcs[cls.SHARPE] = sharpe_ratio\n",
    "        funcs[cls.SORTINO] = sortino_ratio\n",
    "        return funcs[reward_type]"
   ]
  },
  {
   "cell_type": "markdown",
   "metadata": {
    "colab_type": "text",
    "id": "7oN3oCEOxhZx"
   },
   "source": [
    "`AssetReward` class was implemented for general calculation of returns and rewards including *Differential Sharpe Ratio* (Moody and Saffell, 2001)[[8](#scrollTo=cYmM0vHOpPwN)], which is a variation of *Sharpe Ratio* (Sharpe, 1966). *Sharpe Ratio* is defined as an average of returns $R_t$ during the period {t-n+1, t-n+2, ..., t} divided by standard deviation of $R_t$, whereas *Differential Sharpe Ratio* is defined as:\n",
    "$$D_t \\equiv \\frac{dS_t}{d\\eta} = \\frac{B_{t-1}\\Delta A_t-\\frac{1}{2}A_{t-1}\\Delta Bt}{(B_{t-1}-A^2_{t-1})^\\frac{3}{2}}$$\n",
    "where $A_t$ and $B_t$ are exponential moving estimates of the first and second moments of $R_t$ as:\n",
    "$$A_t = A_{t-1}+\\eta\\Delta A_t = A_{t-1}+\\eta(R_t-A_{t-1})$$\n",
    "$$B_t = B_{t-1}+\\eta\\Delta B_t = B_{t-1}+\\eta(R_t^2-B_{t-1})$$"
   ]
  },
  {
   "cell_type": "code",
   "execution_count": 0,
   "metadata": {
    "colab": {},
    "colab_type": "code",
    "id": "YyxCkc3wEk6U"
   },
   "outputs": [],
   "source": [
    "class AssetReward(object):\n",
    "    def __init__(self, return_type=ReturnType.LOG, reward_type=RewardType.DIFF_SHARPE, eta=0.01):\n",
    "        self.get_return = ReturnType.get_function(return_type)\n",
    "        self.get_reward = RewardType.get_function(reward_type)\n",
    "        if self.get_reward is None:\n",
    "            self.eta = eta\n",
    "            self.get_reward = self._diff_sharpe_ratio\n",
    "        self.reset()\n",
    "\n",
    "    def __call__(self, portfolio_values):\n",
    "        returns = self.get_return(portfolio_values)\n",
    "        reward = self.get_reward(returns)\n",
    "        if np.isinf(reward) or np.isnan(reward):\n",
    "            reward = 0\n",
    "        return reward\n",
    "\n",
    "    def reset(self):\n",
    "        # estimates of the 1st/2nd moments of the return's distributions\n",
    "        self.At = 0.0\n",
    "        self.Bt = 0.0\n",
    "\n",
    "    def _diff_sharpe_ratio(self, returns):\n",
    "        Rt = returns[-1]\n",
    "        dAt = Rt - self.At\n",
    "        dBt = Rt**2 - self.Bt\n",
    "        numerator = self.Bt*dAt - self.At*dBt/2\n",
    "        denominator = (self.Bt - self.At**2) ** (3/2)\n",
    "        Dt = numerator / denominator if denominator != 0 else 0\n",
    "        self.At += self.eta * dAt\n",
    "        self.Bt += self.eta * dBt\n",
    "        return Dt"
   ]
  },
  {
   "cell_type": "markdown",
   "metadata": {
    "colab_type": "text",
    "id": "4ZwCGCpG406r"
   },
   "source": [
    "# 4 - Agent"
   ]
  },
  {
   "cell_type": "markdown",
   "metadata": {
    "colab_type": "text",
    "id": "i-4tIWR90rKh"
   },
   "source": [
    "## 4.1. Main Class\n",
    "The proposed model is Deterministic Policy Gradient with 2D Relative-attentional Gated Transformer (DPGRGT). The overall architecture is shown in the below figure and is designed for the characteristics of the portfolio optimization domain data–continuous action space, partial observability, and high dimensionality. The agent essentially follows the structure of Deep Deterministic Policy Gradient (Lillicrap et al.,2016)[[7](#scrollTo=cYmM0vHOpPwN)] for continuous action space, utilizing Transformer encoders that has a robust structure to long term dependency of partial observability. Specifically, a variation of Transformer called 2D Relative-attentional Gated Transformer (RG-Transformer) is used as a core part of its actor, target actor, critic, and target critic networks for high dimensional portfolio data.\n",
    "\n",
    "![](https://drive.google.com/uc?export=view&id=1QWeBQxhe1MufLFdV8QQgyV-HIwcJwesy)"
   ]
  },
  {
   "cell_type": "code",
   "execution_count": 0,
   "metadata": {
    "colab": {},
    "colab_type": "code",
    "id": "puJW5ujSM-t6"
   },
   "outputs": [],
   "source": [
    "class Agent(object):\n",
    "    def __init__(self, state_shape, action_dim):\n",
    "        self.state_shape = state_shape\n",
    "        self.action_dim = action_dim\n",
    "\n",
    "    @abstractmethod\n",
    "    def act(self, state):\n",
    "        raise NotImplementedError\n",
    "\n",
    "    def test(self, env, log_interval=10, mode='human'):\n",
    "        done = False\n",
    "        infos = []\n",
    "        step = 0\n",
    "        state, _ = env.reset()\n",
    "        while not done:\n",
    "            step += 1\n",
    "            action = self.act(state)\n",
    "            next_state, _, done, info = env.step(action)\n",
    "            state = next_state\n",
    "            infos.append(info)\n",
    "            if step % log_interval == 0:\n",
    "                env.render(mode=mode)\n",
    "        return infos"
   ]
  },
  {
   "cell_type": "markdown",
   "metadata": {
    "colab_type": "text",
    "id": "vnDBuPKr9Pxz"
   },
   "source": [
    "### Baseline Agents\n",
    "For baseline models, two models that implemented MPT (Markowitz’s Modern Portfolio Theory) and Uniform Constant Rebalanced Portfolio (UCRP) strategy (Cover, 1996) were employed."
   ]
  },
  {
   "cell_type": "code",
   "execution_count": 0,
   "metadata": {
    "colab": {},
    "colab_type": "code",
    "id": "GhzuQtLQPfSw"
   },
   "outputs": [],
   "source": [
    "# Modern Portfolio Theory - maximize sharpe ratio\n",
    "class MPTAgent(Agent):\n",
    "    def __init__(self, state_shape, action_dim, pct_change=True, base_feature='Close', seed=100):\n",
    "        super(MPTAgent, self).__init__(state_shape, action_dim)\n",
    "        self.action = np.ones(self.action_dim)/self.action_dim\n",
    "        self.pct_change = pct_change\n",
    "        self.base_feature = AssetData.feats[base_feature]\n",
    "\n",
    "    def act(self, state):\n",
    "        if self.pct_change:\n",
    "            returns = np.diff(state[:, :, self.base_feature], axis=0) / state[:-1, :, self.base_feature]\n",
    "        else:\n",
    "            returns = state[:, :, self.base_feature]\n",
    "        sharpe = lambda x, m, c: -np.dot(x.T, m) / np.sqrt(np.dot(np.dot(x.T, c), x))\n",
    "        mean = np.mean(returns, axis=0).reshape(self.action_dim, 1)\n",
    "        cov = np.cov(returns.T)\n",
    "        bounds = [(0., 1.) for _ in range(self.action_dim)]\n",
    "        consts = {'type': 'eq', 'fun': lambda x: np.sum(x) - 1}\n",
    "        self.action = minimize(sharpe, self.action, (mean, cov), bounds=bounds, constraints=consts).x\n",
    "        return self.action\n",
    "\n",
    "# Uniform Constant Rebalancing Portfolio\n",
    "class UCRPAgent(Agent):\n",
    "    def act(self, state):\n",
    "        action = np.ones(self.action_dim)/self.action_dim\n",
    "        return action"
   ]
  },
  {
   "cell_type": "markdown",
   "metadata": {
    "colab_type": "text",
    "id": "DM2RYorIOfi1"
   },
   "source": [
    "### RL Agent\n",
    "The agent uses a deep neural network as a policy approximator that gives continuous actions in a deterministic way. For stable learning, there are a separate pair of target actor $\\mu^\\prime$ and target critic $Q^\\prime$ with weights $\\theta^{\\mu^\\prime}$ and $\\theta^{Q^\\prime}$, besides the actor $\\mu$ and target Q with weights $\\theta^\\mu$ and $\\theta^Q$. "
   ]
  },
  {
   "cell_type": "code",
   "execution_count": 0,
   "metadata": {
    "colab": {},
    "colab_type": "code",
    "id": "aURK13tX1ELb"
   },
   "outputs": [],
   "source": [
    "class AssetAgent(Agent):\n",
    "    def __init__(self, state_shape, action_dim, model_dim=128, transfs=0, heads=8, stablized=False, cubic=False):\n",
    "        self.actor = Actor(state_shape, action_dim, model_dim, transfs, heads, stablized, cubic)\n",
    "        self.actor_target = Actor(state_shape, action_dim, model_dim, transfs, heads, stablized, cubic)\n",
    "        self.actor_optimizer = Adam()\n",
    "        self._update_targets(self.actor, self.actor_target, tau=1.)\n",
    "\n",
    "        self.critic = Critic(state_shape, action_dim, model_dim, transfs, heads, stablized, cubic)\n",
    "        self.critic_target = Critic(state_shape, action_dim, model_dim, transfs, heads, stablized, cubic)\n",
    "        self.critic_optimizer = Adam()\n",
    "        self.critic.compile(loss=\"mean_squared_error\", optimizer=self.critic_optimizer)\n",
    "        self._update_targets(self.critic, self.critic_target, tau=1.)\n",
    "\n",
    "        self.threading = False\n",
    "        self.epi_rewards = [0]\n",
    "\n",
    "    def act(self, state, noise=None):\n",
    "        state = np.expand_dims(state, axis=0)\n",
    "        action = self.actor.predict(state)[0, :]\n",
    "        assert not np.isnan(action).any(), 'action should consist of real numbers'\n",
    "        if noise is not None:\n",
    "            action += noise\n",
    "            action -= action.min()\n",
    "            action /= action.sum()\n",
    "        return action\n",
    "\n",
    "    def save(self, actor_file, critic_file):\n",
    "        self.actor.save_weights(actor_file)\n",
    "        self.critic.save_weights(critic_file)\n",
    "\n",
    "    def load(self, actor_file, critic_file):\n",
    "        self.actor.load_weights(actor_file)\n",
    "        self.actor_target.load_weights(actor_file)\n",
    "        self.critic.load_weights(critic_file)\n",
    "        self.critic_target.load_weights(critic_file)\n",
    "\n",
    "    @staticmethod\n",
    "    def _update_targets(model, target_model, tau):\n",
    "        weights = model.get_weights()\n",
    "        target_weights = target_model.get_weights()\n",
    "        for i in range(len(target_weights)):\n",
    "            target_weights[i] = weights[i] * tau + target_weights[i] * (1 - tau)\n",
    "        target_model.set_weights(target_weights)"
   ]
  },
  {
   "cell_type": "markdown",
   "metadata": {
    "colab_type": "text",
    "id": "T1zli1Pp4OY3"
   },
   "source": [
    "### Action Noise\n",
    "For continuous action noise, *Ornstein-Uhlenbeck Process* was adopted as in DDPG."
   ]
  },
  {
   "cell_type": "code",
   "execution_count": 0,
   "metadata": {
    "colab": {},
    "colab_type": "code",
    "id": "0zeS88Ae4LCd"
   },
   "outputs": [],
   "source": [
    "class OrnsteinUhlenbeckProcess(object):\n",
    "    def __init__(self, size, steps, theta=.13, mu=0, sigma=.2):\n",
    "        self.size = size\n",
    "        self.dt = 1 / steps\n",
    "        self.theta = theta\n",
    "        self.mu = mu\n",
    "        self.sigma = sigma\n",
    "        self.reset()\n",
    "\n",
    "    def __call__(self):\n",
    "        dWt = np.random.normal(scale=np.sqrt(self.dt), size=self.size)\n",
    "        dYt = self.theta*(self.mu-self.Yt)*self.dt + self.sigma*dWt\n",
    "        self.Yt += dYt\n",
    "        return self.Yt\n",
    "\n",
    "    def reset(self):\n",
    "        self.Yt = np.zeros(self.size)"
   ]
  },
  {
   "cell_type": "markdown",
   "metadata": {
    "colab_type": "text",
    "id": "Wk1R6Ll366Rt"
   },
   "source": [
    "### Gradient Update\n",
    "The target return $G_i$ for the i-th sample from replay buffer is:\n",
    "\t\t\t\t$$G_i=r_i+\\gamma Q^\\prime\\left(s_i^\\prime,\\mu^\\prime\\left(s_i^\\prime\\middle|\\theta^{\\mu^\\prime}\\right)\\middle|\\theta^{Q^\\prime}\\right)$$\n",
    "where $s_i$, $a_i$, $r_i$, $s_i^\\prime$ and $\\gamma$ are the state, action, reward, next state, and discount factor, respectively. The critic weights $\\theta^Q$ is updated by minimizing the loss from temporal difference error between $G_i$ and $Q\\left(s_i,a_i\\middle|\\theta^Q\\right)$:\n",
    "$$L=\\frac{1}{N}\\sum_{i}\\left(G_i-Q\\left(s_i,a_i\\middle|\\theta^Q\\right)\\right)^2$$\n",
    "Also, the policy gradient to update the actor weights θµ are calculated using the chain rule as:\n",
    "$$\\nabla_{\\theta^\\mu}J\\approx\\frac{1}{N}\\sum_{i}{\\nabla_{\\theta^\\mu}Q\\left(s,\\mu\\left(s\\middle|\\theta^\\mu\\right)\\middle|\\theta^Q\\right)|_{s=s_i,a=\\mu\\left(s_i\\right)}}$$\n",
    "$$=\\frac{1}{N}\\sum_{i}\\nabla_aQ\\left(s,a\\middle|\\theta^Q\\right)|_{s=s_i,a=\\mu\\left(s_i\\right)}\\nabla_{\\theta^\\mu}\\mu\\left(s\\middle|\\theta^\\mu\\right)|_{s=s_i}$$\n",
    "Finally, the target actor weights $\\theta^{\\mu^\\prime}$ and target critic weights $\\theta^{Q^\\prime}$ is updated slowly with $\\tau\\theta^\\mu+\\left(1-\\tau\\right)\\theta^{\\mu^\\prime}$ and $\\tau\\theta^Q+\\left(1-\\tau\\right)\\theta^{Q^\\prime}$, respectively, where $\\tau$ is the target update rate.\n"
   ]
  },
  {
   "cell_type": "code",
   "execution_count": 0,
   "metadata": {
    "colab": {},
    "colab_type": "code",
    "id": "JRfijhlS63mn"
   },
   "outputs": [],
   "source": [
    "# @tf.function\n",
    "@partial_class(AssetAgent)\n",
    "def _replay(self, states, actions, rewards, next_states, dones, batch_size, gamma, tau):\n",
    "    # calculate the target G\n",
    "    next_actions = self.actor_target.predict(next_states)\n",
    "    next_Q = self.critic_target.predict([next_states, next_actions])\n",
    "    target_G = rewards + next_Q * gamma * (1.-dones)\n",
    "    # fit Q with the loss from differences between target G and Q\n",
    "    self.critic.fit([states, actions], target_G, epochs=1, batch_size=batch_size, verbose=0)\n",
    "    # calculate the gradient of the actor from Q values\n",
    "    with tf.GradientTape() as tape:\n",
    "        actions = self.actor(states)\n",
    "        actor_loss = -tf.reduce_mean(self.critic([states, actions]))\n",
    "    actor_grad = tape.gradient(actor_loss, self.actor.trainable_variables)\n",
    "    self.actor_optimizer.apply_gradients(zip(actor_grad, self.actor.trainable_variables))\n",
    "    # update target critic and actor\n",
    "    self._update_targets(self.actor, self.actor_target, tau)\n",
    "    self._update_targets(self.critic, self.critic_target, tau)\n",
    "    # sum up the actor gradients to check if weights are being updated\n",
    "    grads = actor_grad[0].numpy().sum()\n",
    "    return grads"
   ]
  },
  {
   "cell_type": "markdown",
   "metadata": {
    "colab_type": "text",
    "id": "k-jnfadM3jfo"
   },
   "source": [
    "## 4.2. Asynchronous Learning\n"
   ]
  },
  {
   "cell_type": "markdown",
   "metadata": {
    "colab_type": "text",
    "id": "7aicRlXM7bYP"
   },
   "source": [
    "### Replay Buffer\n",
    "To accelerate the training, an asynchronous learning method with dual memories (Zhang et al, 2019)[[13](#scrollTo=cYmM0vHOpPwN)] was employed. The experience replay buffer consists of `memory` that saves all the trajectories and `hmemory` that saves trajectories with high rewards.\n",
    "\n",
    "\n",
    "\n"
   ]
  },
  {
   "cell_type": "code",
   "execution_count": 0,
   "metadata": {
    "colab": {},
    "colab_type": "code",
    "id": "lxRLRrdI3b6z"
   },
   "outputs": [],
   "source": [
    "class ReplayBuffer(object):\n",
    "    def __init__(self, batch_size, asset_shuffle=False, rho=0.2, memory_size=2000, hmemory_size=1000):\n",
    "        self.batch_size = batch_size\n",
    "        self.asset_shuffle = asset_shuffle\n",
    "        self.rho = rho\n",
    "        self.memory = deque(maxlen=memory_size)\n",
    "        self.hmemory = deque(maxlen=hmemory_size)\n",
    "\n",
    "    @property\n",
    "    def size(self):\n",
    "        return len(self.memory)\n",
    "\n",
    "    def add_memory(self, transition):\n",
    "        self.memory.append(transition)\n",
    "\n",
    "    def add_hmemory(self, transitions):\n",
    "        for transition in transitions:\n",
    "            self.hmemory.append(transition)\n",
    "\n",
    "    def sample(self):\n",
    "        samples = []\n",
    "        for i in range(self.batch_size):\n",
    "            if np.random.random() < self.rho and len(self.hmemory) > 0:\n",
    "                sample = random.sample(self.hmemory, 1)\n",
    "            else:\n",
    "                sample = random.sample(self.memory, 1)\n",
    "            samples.append(sample[0])\n",
    "        s = np.array(samples).T\n",
    "        states, actions, rewards, next_states, dones = [np.vstack(s[i, :]) for i in range(5)]\n",
    "        if self.asset_shuffle:\n",
    "            asset_index = [i+1 for i in range(states.shape[2]-1)]\n",
    "            np.random.shuffle(asset_index)\n",
    "            asset_index = [0] + asset_index\n",
    "            states = states[:, :, asset_index, :]\n",
    "            actions = actions[:, asset_index]\n",
    "            next_states = next_states[:, :, asset_index, :]\n",
    "        return states, actions, rewards, next_states, dones"
   ]
  },
  {
   "cell_type": "markdown",
   "metadata": {
    "colab_type": "text",
    "id": "MgqMBB9B7_Wh"
   },
   "source": [
    "### Environment Simulation\n",
    "With the replay buffer, `_simulate` accumulates trajectories."
   ]
  },
  {
   "cell_type": "code",
   "execution_count": 0,
   "metadata": {
    "colab": {},
    "colab_type": "code",
    "id": "RdFFKAfI5ikE"
   },
   "outputs": [],
   "source": [
    "@partial_class(AssetAgent)\n",
    "def _simulate(self, env, buffer):\n",
    "    cache = deque(maxlen=env.data.steps)\n",
    "    noise = OrnsteinUhlenbeckProcess(size=env.action_space.high.size, steps=env.data.steps)\n",
    "    while self.threading:\n",
    "        done = False\n",
    "        epi_reward = 0\n",
    "        cache.clear()\n",
    "        noise.reset()\n",
    "        state, _ = env.reset()\n",
    "        while not done:\n",
    "            action = self.act(state, noise())\n",
    "            next_state, reward, done, _ = env.step(action)\n",
    "            transition = [np.expand_dims(state, axis=0), action, reward,\n",
    "                            np.expand_dims(next_state, axis=0), done]\n",
    "            cache.append(transition)\n",
    "            buffer.add_memory(cache[-1])\n",
    "            state = next_state\n",
    "            epi_reward += reward\n",
    "        if epi_reward >= np.max(self.epi_rewards):\n",
    "            buffer.add_hmemory(cache.copy())\n",
    "        self.epi_rewards.append(epi_reward)"
   ]
  },
  {
   "cell_type": "markdown",
   "metadata": {
    "colab_type": "text",
    "id": "-hM8RH5e_0NN"
   },
   "source": [
    "### Training\n",
    "In `Train` method, the agent runs a set of environment simulators parallelly and learn from the experiences accumulated in the memory buffer."
   ]
  },
  {
   "cell_type": "code",
   "execution_count": 0,
   "metadata": {
    "colab": {},
    "colab_type": "code",
    "id": "Ja2pa6_DwHrK"
   },
   "outputs": [],
   "source": [
    "@partial_class(AssetAgent)\n",
    "def train(self, envs, buffer, max_epochs=1000, log_interval=10, lr_actor=1e-4, lr_critic=1e-4, sanity_check=False, tau=0.15, gamma=0.9):\n",
    "    self.actor_optimizer.learning_rate.assign(lr_actor)\n",
    "    self.critic_optimizer.learning_rate.assign(lr_critic)\n",
    "    self.threading = True\n",
    "    env_simulators = []\n",
    "    stored_grads = 0\n",
    "    for index in range(len(envs)):\n",
    "        thread = threading.Thread(target=self._simulate, args=(envs[index], buffer), daemon=True)\n",
    "        thread.start()\n",
    "        env_simulators.append(thread)\n",
    "    is_working = lambda threads: np.array([True if thread.isAlive() else False for thread in threads]).any()\n",
    "\n",
    "    try:\n",
    "        print(\"Enqueuing first batch data:\")\n",
    "        watermark = 0\n",
    "        pbar_batch = tqdm(total=buffer.batch_size)\n",
    "        while is_working(env_simulators) and buffer.size <= buffer.batch_size:\n",
    "            buffer_size = buffer.size\n",
    "            if watermark < buffer_size:\n",
    "                pbar_batch.update(buffer_size - watermark)\n",
    "                watermark = buffer_size\n",
    "        pbar_batch.update(buffer.batch_size - watermark)\n",
    "        pbar_batch.close()\n",
    "\n",
    "        print(\"Training:\")\n",
    "        epoch = 0\n",
    "        pbar_replay = tqdm(total=max_epochs)\n",
    "        while is_working(env_simulators) and epoch < max_epochs:\n",
    "            start_time = time.perf_counter()\n",
    "            states, actions, rewards, next_states, dones = buffer.sample()\n",
    "            grads = self._replay(states, actions, rewards, next_states, dones, buffer.batch_size, gamma, tau)\n",
    "            epoch += 1\n",
    "            episodes = len(self.epi_rewards) - 1\n",
    "            avg_reward = round(np.mean(self.epi_rewards[-log_interval:]), 2)\n",
    "            max_reward = round(np.max(self.epi_rewards), 2)\n",
    "            elapsed = time.perf_counter() - start_time\n",
    "            if epoch % log_interval == 0:\n",
    "                # Check if the weights are being updated\n",
    "                if sanity_check:\n",
    "                    sanity = (grads != stored_grads)\n",
    "                    stored_grads = grads\n",
    "                    print('Epoch: %d, Episodes: %d, Reward (avg/max): %.2f/%.2f, Sanity: %r [%.2fs]' %(epoch, episodes, avg_reward, max_reward, sanity, elapsed))\n",
    "                else:\n",
    "                    print('Epoch: %d, Episodes: %d, Reward (avg/max): %.2f/%.2f [%.2fs]' %(epoch, episodes, avg_reward, max_reward, elapsed))\n",
    "            pbar_replay.update(1)\n",
    "            pbar_replay.set_description(\"Epoch: %d, Reward: %.2f\" %(epoch, avg_reward))\n",
    "        pbar_replay.close()\n",
    "    except KeyboardInterrupt:\n",
    "        print('Aborted by the user.')\n",
    "    self.threading = False"
   ]
  },
  {
   "cell_type": "markdown",
   "metadata": {
    "colab_type": "text",
    "id": "wLEHaqQd8dUq"
   },
   "source": [
    "## 4.3. Actor/Critic Networks"
   ]
  },
  {
   "cell_type": "markdown",
   "metadata": {
    "colab_type": "text",
    "id": "aLVO0pDG-lcI"
   },
   "source": [
    "### Actor\n",
    "The actor decides a deterministic action based on observations at each time, and the critic evaluates the policy of the actor to update the functions of the actor and itself. The approximation functions of actor and critic are basically deep neural networks that consists of `AssetNet` at the first hidden layer and the feed forward network at the second layer."
   ]
  },
  {
   "cell_type": "code",
   "execution_count": 0,
   "metadata": {
    "colab": {},
    "colab_type": "code",
    "id": "s1HdW9aEBeD5"
   },
   "outputs": [],
   "source": [
    "class Actor(Model):\n",
    "    def __init__(self, state_shape, action_dim, model_dim, transfs, heads, stablized=False, cubic=False):\n",
    "        super(Actor, self).__init__()\n",
    "        self.assetnet = AssetNet(state_shape, action_dim, model_dim, transfs, heads, stablized, cubic)\n",
    "        self.norm = LayerNormalization()\n",
    "        self.dense = Dense(action_dim)\n",
    "        with tf.device(\"/cpu:0\"):\n",
    "            self(tf.constant(np.zeros(shape=(1,)+state_shape, dtype=np.float32)))\n",
    "\n",
    "    def call(self, inputs):\n",
    "        features = self.assetnet(inputs)\n",
    "        features = self.norm(features)\n",
    "        features = self.dense(features)\n",
    "        action = tf.nn.softmax(features)\n",
    "        return action"
   ]
  },
  {
   "cell_type": "markdown",
   "metadata": {
    "colab_type": "text",
    "id": "_reWRtOtAaRj"
   },
   "source": [
    "### Critic\n",
    "`Critic` is similar to `Actor`, except the dense layer that gets an action as its input."
   ]
  },
  {
   "cell_type": "code",
   "execution_count": 0,
   "metadata": {
    "colab": {},
    "colab_type": "code",
    "id": "CJdj_6Pi9Yrg"
   },
   "outputs": [],
   "source": [
    "class Critic(Model):\n",
    "    def __init__(self, state_shape, action_dim, model_dim, transfs, heads, stablized=False, cubic=False):\n",
    "        super(Critic, self).__init__()\n",
    "        self.assetnet = AssetNet(state_shape, action_dim, model_dim, transfs, heads, stablized, cubic)\n",
    "        self.norm = LayerNormalization()\n",
    "        self.dense1 = Dense(model_dim)\n",
    "        self.dense2 = Dense(model_dim)\n",
    "        self.dense3 = Dense(1)\n",
    "        with tf.device(\"/cpu:0\"):\n",
    "            self([tf.constant(np.zeros(shape=(1,)+state_shape, dtype=np.float32)), \n",
    "                  tf.constant(np.zeros(shape=[1, action_dim], dtype=np.float32))])\n",
    "\n",
    "    def call(self, inputs):\n",
    "        states, action = inputs\n",
    "        features = self.assetnet(states)\n",
    "        features1 = self.dense1(features)\n",
    "        features2 = self.dense2(action)\n",
    "        features = tf.add(features1, features2)\n",
    "        features = self.norm(features)\n",
    "        features = elu(features)\n",
    "        output = self.dense3(features)\n",
    "        return output"
   ]
  },
  {
   "cell_type": "markdown",
   "metadata": {
    "colab_type": "text",
    "id": "mACyMyHLBJUC"
   },
   "source": [
    "## 4.4. Common Networks"
   ]
  },
  {
   "cell_type": "markdown",
   "metadata": {
    "colab_type": "text",
    "id": "uP435twdiu5B"
   },
   "source": [
    " `AssetNet` is a deep neural network based on Transformer[[12](#scrollTo=cYmM0vHOpPwN)]. The absoulute positional encoding is:\n",
    " $$PE_{(pos, 2i)}=sin(pos/10000^{2i/d_{model}})$$\n",
    "$$PE_{(pos, 2i+1)}=cos(pos/10000^{2i/d_{model}})$$\n",
    "where $pos$ is the position and $i$ is the dimension and each dimension of the positional encoding corresponds to a sinusoid."
   ]
  },
  {
   "cell_type": "code",
   "execution_count": 0,
   "metadata": {
    "colab": {},
    "colab_type": "code",
    "id": "XVX0u1sV-BBv"
   },
   "outputs": [],
   "source": [
    "class AssetNet(Layer):\n",
    "    def __init__(self, state_shape, action_dim, model_dim, transfs, heads, stablized=False, cubic=False):\n",
    "        super(AssetNet, self).__init__()\n",
    "        self.cubic = cubic\n",
    "        self.dense1 = Dense(model_dim)\n",
    "        if transfs > 0:\n",
    "            self.posit = PositionalEncoding()\n",
    "        self.transfs = [TransformerEncoder(heads, model_dim, model_dim*4, stablized, cubic) for _ in range(transfs)]\n",
    "        self.dense2 = Dense(action_dim)\n",
    "        with tf.device(\"/cpu:0\"):\n",
    "             self(tf.constant(np.zeros(shape=(1,)+state_shape, dtype=np.float32)))\n",
    "\n",
    "    def call(self, inputs, training=None):\n",
    "        if len(self.transfs) > 0:\n",
    "            if self.cubic:\n",
    "                features = self.dense1(inputs)  # (batch, width, height, model_dim)\n",
    "                features = Reshape((inputs.shape[1]*inputs.shape[2], -1))(features)  # (batch, width*height, model_dim)\n",
    "                features = self.posit(features)\n",
    "                features = Reshape((inputs.shape[1], inputs.shape[2], -1))(features)  # (batch, width, height, model_dim)\n",
    "            else:\n",
    "                features = Reshape((inputs.shape[1], -1))(inputs)  # (batch, width, height*depth)\n",
    "                features = self.dense1(features)  # (batch, width, model_dim)\n",
    "                features = self.posit(features)\n",
    "            for transf in self.transfs:\n",
    "                features = transf(features)\n",
    "        else:\n",
    "            features = Reshape((inputs.shape[1], -1))(inputs)  # (batch, width, height*depth)\n",
    "            features = elu(self.dense1(features))  # (batch, width, model_dim)\n",
    "        features = Flatten()(features)\n",
    "        output = self.dense2(features)\n",
    "        return output\n",
    "\n",
    "class PositionalEncoding(Layer):\n",
    "    def __init__(self):\n",
    "        super(PositionalEncoding, self).__init__()\n",
    "\n",
    "    def build(self, input_shape):\n",
    "        pos = np.expand_dims(np.arange(input_shape[1]), axis=1)\n",
    "        i = np.expand_dims(np.arange(input_shape[2]), axis=0)\n",
    "        pe = pos / np.power(10000, (2*(i//2)) / np.float32(input_shape[2]))\n",
    "        pe[:, 0::2] = np.sin(pe[:, 0::2])\n",
    "        pe[:, 1::2] = np.cos(pe[:, 1::2])\n",
    "        self.pe = tf.constant(np.expand_dims(pe, axis=0), tf.float32)\n",
    "\n",
    "    def call(self, inputs):\n",
    "        output = inputs + self.pe\n",
    "        return output"
   ]
  },
  {
   "cell_type": "markdown",
   "metadata": {
    "colab_type": "text",
    "id": "OUmxm6ey1BxU"
   },
   "source": [
    "### Transformer Encoder\n",
    "An implementation for 2D Relative-attentional Gated Transformer (RG-Transformer), including layer reordering and gating layers for stable convergence [[9](#scrollTo=cYmM0vHOpPwN)]"
   ]
  },
  {
   "cell_type": "code",
   "execution_count": 0,
   "metadata": {
    "colab": {},
    "colab_type": "code",
    "id": "v4IvkIQNOj9r"
   },
   "outputs": [],
   "source": [
    "# no dropout was applied for the convergence\n",
    "class TransformerEncoder(Layer):\n",
    "    def __init__(self, heads, model_dim, ff_dim, stablized=False, cubic=False):\n",
    "        super(TransformerEncoder,self).__init__()\n",
    "        self.stablized = stablized\n",
    "        self.norm1 = LayerNormalization()\n",
    "        self.norm2 = LayerNormalization()\n",
    "        self.dense1 = Dense(ff_dim)\n",
    "        self.dense2 = Dense(model_dim)\n",
    "        self.attn = MHAttention(heads, model_dim, cubic)\n",
    "        if self.stablized:\n",
    "            self.gate1 = GatedRecurrentUnit(model_dim)\n",
    "            self.gate2 = GatedRecurrentUnit(model_dim)\n",
    "\n",
    "    def call(self, inputs, training=False):\n",
    "        if self.stablized:\n",
    "            features1 = self.norm1(inputs)\n",
    "            features1, attn_weights = self.attn(features1, features1, features1)\n",
    "            features1 = self.gate1(inputs, elu(features1))\n",
    "            features2 = self.norm2(features1)\n",
    "            features2 = elu(self.dense1(features2))\n",
    "            features2 = elu(self.dense2(features2))\n",
    "            output = self.gate2(features1, features2)\n",
    "        else:\n",
    "            features1, attn_weights = self.attn(inputs, inputs, inputs)\n",
    "            features1 = self.norm1(inputs + features1)\n",
    "            features2 = elu(self.dense1(features1))\n",
    "            features2 = elu(self.dense2(features2))\n",
    "            output = self.norm2(features1 + features2)\n",
    "        self.attn_weights = attn_weights\n",
    "        return output\n",
    "\n",
    "class GatedRecurrentUnit(Layer):\n",
    "    def __init__(self, model_dim):\n",
    "        super(GatedRecurrentUnit,self).__init__()\n",
    "        init = RandomUniform(minval=0, maxval=0.01)\n",
    "        self.Wr = Dense(model_dim, use_bias=False)\n",
    "        self.Ur = Dense(model_dim, use_bias=False)\n",
    "        self.Wz = Dense(model_dim, use_bias=False)\n",
    "        self.Uz = Dense(model_dim, use_bias=False)\n",
    "        self.bg = self.add_weight(name='bg', shape=(model_dim,), initializer=init, trainable=True)\n",
    "        self.Wg = Dense(model_dim, use_bias=False)\n",
    "        self.Ug = Dense(model_dim, use_bias=False)\n",
    "\n",
    "    def call(self, x, y):\n",
    "        r = sigmoid(self.Wr(y) + self.Ur(x))\n",
    "        z = sigmoid(self.Wz(y) + self.Uz(x) - self.bg)\n",
    "        h = tanh(self.Wg(y) + self.Ug(r*x))\n",
    "        output = (1.-z)*x + z*h\n",
    "        return output"
   ]
  },
  {
   "cell_type": "markdown",
   "metadata": {
    "colab_type": "text",
    "id": "MkQdIgvhNpvB"
   },
   "source": [
    "### Multi-Head Attehtion\n",
    "An implementation for the 2D Relative-Positional Multi-head Attention."
   ]
  },
  {
   "cell_type": "code",
   "execution_count": 0,
   "metadata": {
    "colab": {},
    "colab_type": "code",
    "id": "HQG-wRllSa9F"
   },
   "outputs": [],
   "source": [
    "class MHAttention(Layer):\n",
    "    def __init__(self, heads, model_dim, cubic=False, max_rel_pos=50):\n",
    "        super(MHAttention, self).__init__()\n",
    "        self.heads = heads\n",
    "        self.model_dim = model_dim\n",
    "        self.depth = model_dim // heads\n",
    "        self.cubic = cubic\n",
    "        self.Wq = Dense(model_dim)\n",
    "        self.Wk = Dense(model_dim)\n",
    "        self.Wv = Dense(model_dim)\n",
    "        self.dense = Dense(model_dim)\n",
    "        if self.cubic:\n",
    "            self.max_rel_pos = max_rel_pos\n",
    "            embed_shape = (self.heads, 2*self.max_rel_pos - 1, self.depth)\n",
    "            init=RandomNormal(stddev=model_dim**-0.5)\n",
    "            self.rel_embeds = [self.add_weight(name='rel_embed{}'.format(i), shape=embed_shape, initializer=init, trainable=True) for i in range(2)]\n",
    "\n",
    "    def call(self, q, k, v):\n",
    "        width = tf.shape(q)[1]\n",
    "        q = self.Wq(q)  # (batch, width(, height), model_dim)\n",
    "        k = self.Wk(k)  # (batch, width(, height), model_dim)\n",
    "        v = self.Wv(v)  # (batch, width(, height), model_dim)        \n",
    "        if self.cubic:\n",
    "            height = tf.shape(q)[2]\n",
    "            split_heads = lambda x: tf.transpose(tf.reshape(x,(-1, width, height, self.heads, self.depth)), [0, 3, 1, 2, 4])\n",
    "            flatten_height = lambda x: tf.reshape(x, [-1, self.heads, width*height, self.depth])\n",
    "            expand_height = lambda x: tf.reshape(x, [-1, self.heads, width, height, self.depth])\n",
    "            rejoin_heads = lambda x: tf.reshape(tf.transpose(x, [0, 2, 3, 1, 4]), (-1, width, height, self.heads*self.depth))\n",
    "            reshape = lambda x: flatten_height(split_heads(x))\n",
    "            recover = lambda x: rejoin_heads(expand_height(x))\n",
    "        else:\n",
    "            reshape = lambda x: tf.transpose(tf.reshape(x,(-1, width, self.heads, self.depth)), [0, 2, 1, 3])\n",
    "            recover = lambda x: tf.reshape(tf.transpose(x, [0, 2, 1, 3]), (-1, width, self.model_dim))\n",
    "        q = reshape(q)  # (batch, heads, width(*height), depth)\n",
    "        k = reshape(k)  # (batch, heads, width(*height), depth)\n",
    "        v = reshape(v)  # (batch, heads, width(*height), depth)\n",
    "        logits = tf.matmul(q, k, transpose_b=True)  # (batch, heads, width(*height), width(*height))\n",
    "        if self.cubic:\n",
    "            # height relative position encoding\n",
    "            q2d = expand_height(q)  # (batch, heads, width, height, depth)\n",
    "            height_rel_logits = self._get_rel_logits(q2d, 0)\n",
    "            logits += height_rel_logits\n",
    "            # width relative position encoding\n",
    "            q2d = tf.transpose(q2d, [0, 1, 3, 2, 4])  # (batch, heads, height, width, depth)\n",
    "            width_rel_logits = self._get_rel_logits(q2d, 1)\n",
    "            logits += width_rel_logits\n",
    "        else:\n",
    "            logits = logits / tf.math.sqrt(tf.cast(self.depth, tf.float32))\n",
    "        attn_weights = tf.nn.softmax(logits)\n",
    "        attn = tf.matmul(attn_weights, v)  # (batch, heads, width(*height), depth)\n",
    "        attn = recover(attn)  # (batch, width(, height), model_dim)\n",
    "        output = self.dense(attn)\n",
    "        return output, attn_weights"
   ]
  },
  {
   "cell_type": "markdown",
   "metadata": {
    "colab_type": "text",
    "id": "lyS42N-r09oS"
   },
   "source": [
    "### Relative Positional Encoding\n",
    "Relative positional encoding.[[5](#scrollTo=cYmM0vHOpPwN)][[10](#scrollTo=cYmM0vHOpPwN)] refered to and modified from [*Tensor2Tensor*](https://tensorflow.github.io/tensor2tensor/) implementation."
   ]
  },
  {
   "cell_type": "code",
   "execution_count": 0,
   "metadata": {
    "colab": {},
    "colab_type": "code",
    "id": "inaMUeY2FnHJ"
   },
   "outputs": [],
   "source": [
    "@partial_class(MHAttention)\n",
    "def _get_rel_logits(self, query, axis):\n",
    "    # Q: (batch, heads, x, y, depth)\n",
    "    batch = tf.shape(query)[0]\n",
    "    x = tf.shape(query)[2]\n",
    "    y = tf.shape(query)[3]\n",
    "    ## matmul Q with E' (heads, r, depth) instead of R' (heads, r, r, depth)\n",
    "    # rel_embeds: E for y axis (heads, 2*y-1, depth)\n",
    "    pad_length = tf.maximum(y - self.max_rel_pos, 0)\n",
    "    slice_pos = tf.maximum(self.max_rel_pos - y, 0)\n",
    "    padded_rel_embeds = tf.pad(self.rel_embeds[axis], [[0, 0], [pad_length, pad_length], [0, 0]])\n",
    "    rel_embeds = tf.slice(padded_rel_embeds, [0, slice_pos, 0], [-1, 2*y-1, -1])\n",
    "    # rel_logits: (batch, heads, x, y, 2*y-1)\n",
    "    rel_logits = tf.einsum(\"bhxyd,hrd->bhxyr\", query, rel_embeds)\n",
    "    # flatten x axis: (batch, heads*x, y, 2*y-1)\n",
    "    rel_logits = tf.reshape(rel_logits, [-1, self.heads*x, y, 2*y-1])\n",
    "    ## skewing: abs-by-rel (iq, r) index to abs-by-abs (iq, ik) index\n",
    "    # pad dummy columns of length y and flatten\n",
    "    col_pad = tf.zeros((batch, self.heads*x, y, 1))\n",
    "    rel_logits = tf.concat([rel_logits, col_pad], axis=3)\n",
    "    rel_logits = tf.reshape(rel_logits, [-1, self.heads*x, y*2*y])\n",
    "    # pad dummy rows of length y-1 and expland  * 2y^2 + y-1 = (y+1)(2*y-1)\n",
    "    flat_pad = tf.zeros((batch, self.heads*x, y-1))\n",
    "    rel_logits = tf.concat([rel_logits, flat_pad], axis=2)\n",
    "    # (batch, heads*x, y+1, 2*y-1)\n",
    "    rel_logits = tf.reshape(rel_logits, [-1, self.heads*x, y+1, 2*y-1])\n",
    "    # slice: (batch, heads*x, y, y)\n",
    "    rel_logits = rel_logits[:, :, :y, y-1:]\n",
    "    ## restore x axis, expand and tile x times\n",
    "    # (batch, heads, x, y, y)\n",
    "    rel_logits = tf.reshape(rel_logits, [-1, self.heads, x, y, y])\n",
    "    # (batch, heads, x, x, y, y)\n",
    "    rel_logits = tf.expand_dims(rel_logits, axis=3)\n",
    "    rel_logits = tf.tile(rel_logits, [1, 1, 1, x, 1, 1])\n",
    "    if axis == 0:  # (batch, heads, x, y, x, y)\n",
    "        rel_logits = tf.transpose(rel_logits, [0, 1, 2, 4, 3, 5])\n",
    "    else:  # shift x/y: (batch, heads, y, x, y, x)\n",
    "        rel_logits = tf.transpose(rel_logits, [0, 1, 4, 2, 5, 3])\n",
    "    # (batch, heads, x*y, x*y) or (batch, heads, y*x, y*x)\n",
    "    rel_logits = tf.reshape(rel_logits, [-1, self.heads, x*y, x*y])\n",
    "    return rel_logits"
   ]
  },
  {
   "cell_type": "markdown",
   "metadata": {
    "colab_type": "text",
    "id": "_XRn_Z5-5Eoi"
   },
   "source": [
    "# 5 - Train / Load"
   ]
  },
  {
   "cell_type": "markdown",
   "metadata": {
    "colab_type": "text",
    "id": "MsdzC6D8pqU8"
   },
   "source": [
    "Nine *Dow Jones* companies representing each sector - industrials (MMM), financials (JPM), consumer services (PG), technology(AAPL), health care (UNH), consumer goods (WMT), oil & gas (XOM), basic materials (DD) and telecommunications (VZ)"
   ]
  },
  {
   "cell_type": "code",
   "execution_count": 0,
   "metadata": {
    "colab": {},
    "colab_type": "code",
    "id": "fviEaoqn955w"
   },
   "outputs": [],
   "source": [
    "#@markdown Define common variables.\n",
    "assets = ['AAPL', 'DD', 'PG', 'XOM', 'WMT', 'VZ','JPM', 'MMM', 'UNH']\n",
    "agent_params = {'DDPG':       {'transfs': 0, 'stablized':False, 'cubic': False},\n",
    "                'DDPG_TF':    {'transfs': 3, 'stablized':False, 'cubic': False},\n",
    "                'DDPG_RP_TF': {'transfs': 3, 'stablized':False, 'cubic': True},\n",
    "                'DDPG_GL_TF': {'transfs': 3, 'stablized':True,  'cubic': False},\n",
    "                'DPGRGT':     {'transfs': 3, 'stablized':True,  'cubic': True}}\n",
    "return_type = ReturnType.LOG  #@param ['ReturnType.GROSS', 'ReturnType.NET', 'ReturnType.LOG'] {type:'raw'}\n",
    "reward_type = RewardType.SORTINO  #@param ['RewardType.DIFF_SHARPE', 'RewardType.SHARPE', 'RewardType.SORTINO'] {type:'raw'}\n",
    "log_diff_prices = True  #@param {type: 'boolean'}\n",
    "window_size = 50  #@param {type: 'integer'}\n",
    "state_shape = (window_size, len(assets)+1, len(AssetData.feats))\n",
    "action_dim = state_shape[1]\n",
    "results = {}\n",
    "results_file = PATH + 'Agents/results.csv'"
   ]
  },
  {
   "cell_type": "code",
   "execution_count": 0,
   "metadata": {
    "cellView": "both",
    "colab": {},
    "colab_type": "code",
    "id": "WPVFwUaA-RZh"
   },
   "outputs": [],
   "source": [
    "#@markdown Train or load an agent.\n",
    "agent_type = 'DPGRGT'  #@param ['MPT', 'UCRP', 'DDPG', 'DDPG_TF', 'DDPG_RP_TF', 'DDPG_GL_TF', 'DPGRGT'] {type:'string'}\n",
    "load_agent = True  #@param {type: 'boolean'}\n",
    "#@markdown Parameters below will be ignored when loading an agent.\n",
    "train_start = '2000-01-01'  #@param {type: 'date'}\n",
    "train_end = '2017-12-31'  #@param {type: 'date'}\n",
    "train_asset_shuffle = False  #@param {type: 'boolean'}\n",
    "train_threads = 5  #@param {type: 'integer'}\n",
    "episode_steps = 50  #@param {type: 'integer'}\n",
    "batch_size = 32  #@param {type: 'integer'}\n",
    "max_epochs =   1000  #@param {type: 'integer'}\n",
    "log_interval = 30  #@param {type: 'integer'}\n",
    "lr_actor = 1e-4  #@param {type: 'number'}\n",
    "lr_critic = 1e-4  #@param {type: 'number'}\n",
    "sanity_check = True  #@param {type: 'boolean'}\n",
    "save_agent = False  #@param {type: 'boolean'}\n",
    "\n",
    "# train/load environments\n",
    "if agent_type == 'MPT':\n",
    "    agent = MPTAgent(state_shape, action_dim, pct_change=(not log_diff_prices))\n",
    "elif agent_type == 'UCRP':\n",
    "    agent = UCRPAgent(state_shape, action_dim)\n",
    "else:\n",
    "    agent = AssetAgent(state_shape, action_dim, **agent_params[agent_type])\n",
    "    actor_file = PATH + 'Agents/actor_{}'.format(agent_type)\n",
    "    critic_file = PATH + 'Agents/critic_{}'.format(agent_type)\n",
    "    if load_agent:\n",
    "        agent.load(actor_file, critic_file)\n",
    "    else:\n",
    "        print('Training', agent_type)\n",
    "        train_envs = [AssetEnv(assets, train_start, train_end, window_size, episode_steps, return_type, reward_type, log_diff_prices, train_asset_shuffle) for _ in range(train_threads)]\n",
    "        buffer = ReplayBuffer(batch_size, train_asset_shuffle)\n",
    "        agent.train(train_envs, buffer, max_epochs, log_interval, lr_actor, lr_critic, sanity_check)\n",
    "        if save_agent:\n",
    "            agent.save(actor_file, critic_file)"
   ]
  },
  {
   "cell_type": "markdown",
   "metadata": {
    "colab_type": "text",
    "id": "ynWkpwuF5MCK"
   },
   "source": [
    "# 6 - Test"
   ]
  },
  {
   "cell_type": "code",
   "execution_count": 0,
   "metadata": {
    "colab": {
     "base_uri": "https://localhost:8080/",
     "height": 1000
    },
    "colab_type": "code",
    "executionInfo": {
     "elapsed": 38367,
     "status": "ok",
     "timestamp": 1591105830684,
     "user": {
      "displayName": "Taewan Kim",
      "photoUrl": "https://lh3.googleusercontent.com/a-/AOh14GhKX1DdTDXcKx_bNWR0FKjtb6P5Ma_fOxQCZvS-=s64",
      "userId": "13184421950357533683"
     },
     "user_tz": -600
    },
    "id": "oScqAhmtAs6l",
    "outputId": "c1c0dbd1-b355-4c21-f4a8-88323d61e27f"
   },
   "outputs": [
    {
     "name": "stdout",
     "output_type": "stream",
     "text": [
      "step: 30\n",
      "action: [0.021 0.033 0.005 0.867 0.006 0.019 0.018 0.011 0.011 0.009]\n",
      "portfolio_weight: [0.028 0.032 0.005 0.866 0.005 0.019 0.018 0.009 0.011 0.008]\n",
      "portfolio_value: 92611.87\n",
      "step: 60\n",
      "action: [0.021 0.033 0.005 0.867 0.006 0.019 0.018 0.011 0.011 0.009]\n",
      "portfolio_weight: [0.03  0.031 0.004 0.866 0.005 0.018 0.018 0.01  0.01  0.008]\n",
      "portfolio_value: 98341.91\n",
      "step: 90\n",
      "action: [0.021 0.033 0.005 0.867 0.006 0.019 0.018 0.011 0.011 0.009]\n",
      "portfolio_weight: [0.027 0.033 0.005 0.867 0.005 0.018 0.017 0.01  0.01  0.008]\n",
      "portfolio_value: 100118.77\n",
      "step: 120\n",
      "action: [0.021 0.033 0.005 0.867 0.006 0.019 0.018 0.011 0.011 0.009]\n",
      "portfolio_weight: [0.028 0.032 0.005 0.866 0.005 0.018 0.018 0.01  0.01  0.008]\n",
      "portfolio_value: 105751.12\n",
      "step: 150\n",
      "action: [0.021 0.033 0.005 0.867 0.006 0.019 0.018 0.011 0.011 0.009]\n",
      "portfolio_weight: [0.028 0.032 0.005 0.866 0.005 0.019 0.018 0.01  0.01  0.008]\n",
      "portfolio_value: 103931.1\n",
      "step: 180\n",
      "action: [0.021 0.033 0.005 0.867 0.006 0.019 0.018 0.011 0.011 0.009]\n",
      "portfolio_weight: [0.026 0.033 0.005 0.866 0.005 0.019 0.018 0.01  0.011 0.007]\n",
      "portfolio_value: 115409.79\n",
      "step: 210\n",
      "action: [0.021 0.033 0.005 0.867 0.006 0.019 0.018 0.011 0.011 0.009]\n",
      "portfolio_weight: [0.025 0.032 0.005 0.867 0.006 0.019 0.017 0.01  0.01  0.009]\n",
      "portfolio_value: 113545.86\n",
      "step: 240\n",
      "action: [0.021 0.033 0.005 0.867 0.006 0.019 0.018 0.011 0.011 0.009]\n",
      "portfolio_weight: [0.028 0.031 0.004 0.867 0.005 0.018 0.017 0.01  0.01  0.008]\n",
      "portfolio_value: 121158.55\n",
      "step: 270\n",
      "action: [0.021 0.033 0.005 0.867 0.006 0.019 0.018 0.011 0.011 0.009]\n",
      "portfolio_weight: [0.025 0.033 0.004 0.866 0.006 0.019 0.018 0.01  0.01  0.009]\n",
      "portfolio_value: 128534.03\n",
      "step: 300\n",
      "action: [0.021 0.033 0.005 0.867 0.006 0.019 0.018 0.011 0.011 0.009]\n",
      "portfolio_weight: [0.027 0.032 0.005 0.867 0.006 0.018 0.018 0.01  0.01  0.008]\n",
      "portfolio_value: 129796.95\n",
      "step: 330\n",
      "action: [0.021 0.033 0.005 0.867 0.006 0.019 0.018 0.011 0.011 0.009]\n",
      "portfolio_weight: [0.025 0.032 0.005 0.867 0.006 0.018 0.018 0.01  0.011 0.009]\n",
      "portfolio_value: 137047.04\n",
      "step: 360\n",
      "action: [0.021 0.033 0.005 0.867 0.006 0.019 0.018 0.011 0.011 0.009]\n",
      "portfolio_weight: [0.025 0.032 0.005 0.867 0.005 0.019 0.018 0.01  0.011 0.008]\n",
      "portfolio_value: 143254.32\n",
      "step: 390\n",
      "action: [0.021 0.033 0.005 0.867 0.006 0.019 0.018 0.011 0.011 0.009]\n",
      "portfolio_weight: [0.026 0.032 0.005 0.867 0.006 0.018 0.018 0.01  0.011 0.009]\n",
      "portfolio_value: 145820.58\n",
      "step: 420\n",
      "action: [0.021 0.033 0.005 0.867 0.006 0.019 0.018 0.011 0.011 0.009]\n",
      "portfolio_weight: [0.025 0.032 0.005 0.867 0.006 0.018 0.018 0.01  0.01  0.009]\n",
      "portfolio_value: 147002.83\n",
      "step: 450\n",
      "action: [0.022 0.033 0.005 0.867 0.006 0.019 0.018 0.011 0.011 0.009]\n",
      "portfolio_weight: [0.026 0.032 0.005 0.867 0.005 0.019 0.018 0.01  0.01  0.008]\n",
      "portfolio_value: 153562.2\n",
      "step: 480\n",
      "action: [0.021 0.033 0.005 0.867 0.006 0.019 0.018 0.011 0.011 0.009]\n",
      "portfolio_weight: [0.026 0.032 0.005 0.867 0.006 0.018 0.018 0.01  0.011 0.008]\n",
      "portfolio_value: 151373.53\n",
      "step: 510\n",
      "action: [0.021 0.033 0.005 0.867 0.006 0.019 0.018 0.011 0.011 0.009]\n",
      "portfolio_weight: [0.026 0.032 0.005 0.867 0.006 0.019 0.018 0.01  0.011 0.008]\n",
      "portfolio_value: 123388.99\n"
     ]
    }
   ],
   "source": [
    "#@markdown Generate a test environment and test the agent with it.\n",
    "episode_steps = None  # test for the whole period\n",
    "test_start = '2018-01-01'  #@param {type: 'date'}\n",
    "test_end = '2020-04-30'  #@param {type: 'date'}\n",
    "log_interval = 30  #@param {type: 'integer'}\n",
    "load_and_merge_results = True  #@param {type: 'boolean'}\n",
    "save_results = False  #@param {type: 'boolean'}\n",
    "test_env = AssetEnv(assets, test_start, test_end, window_size, episode_steps, return_type, reward_type, log_diff_prices)\n",
    "result = agent.test(test_env, log_interval)\n",
    "results[agent_type] = result"
   ]
  },
  {
   "cell_type": "code",
   "execution_count": 0,
   "metadata": {
    "colab": {
     "base_uri": "https://localhost:8080/",
     "height": 357
    },
    "colab_type": "code",
    "executionInfo": {
     "elapsed": 2204,
     "status": "ok",
     "timestamp": 1591105832901,
     "user": {
      "displayName": "Taewan Kim",
      "photoUrl": "https://lh3.googleusercontent.com/a-/AOh14GhKX1DdTDXcKx_bNWR0FKjtb6P5Ma_fOxQCZvS-=s64",
      "userId": "13184421950357533683"
     },
     "user_tz": -600
    },
    "id": "YVjfXp8TupU8",
    "outputId": "eb9b5f56-91ed-4627-83c4-8b46868cd863"
   },
   "outputs": [
    {
     "name": "stdout",
     "output_type": "stream",
     "text": [
      "DPGRGT is updated.\n"
     ]
    },
    {
     "data": {
      "text/plain": [
       "<matplotlib.axes._subplots.AxesSubplot at 0x7f1e8faf80b8>"
      ]
     },
     "execution_count": 32,
     "metadata": {
      "tags": []
     },
     "output_type": "execute_result"
    },
    {
     "data": {
      "image/png": "[encoded data removed]",
      "text/plain": [
       "<Figure size 720x360 with 1 Axes>"
      ]
     },
     "metadata": {
      "needs_background": "light",
      "tags": []
     },
     "output_type": "display_data"
    }
   ],
   "source": [
    "if load_and_merge_results:\n",
    "    dfs = pd.read_csv(results_file, index_col=0)\n",
    "    df = pd.DataFrame(data={agent_type:[info['portfolio_value']for info in results[agent_type]]}, \n",
    "                      index=[info['date']for info in results[agent_type]])\n",
    "    dfs[agent_type] = df[agent_type]\n",
    "    print('{} is updated.'.format(agent_type))\n",
    "else:\n",
    "    for i, (model, data) in enumerate(results.items()):\n",
    "        df = pd.DataFrame(data={model:[info['portfolio_value']for info in data]}, \n",
    "                        index=[info['date']for info in data])\n",
    "        dfs = pd.merge(dfs, df, left_index=True, right_index=True) if i > 0 else df\n",
    "if save_results:\n",
    "    dfs.to_csv(results_file)\n",
    "dfs.plot(figsize=(10, 5))"
   ]
  },
  {
   "cell_type": "code",
   "execution_count": 0,
   "metadata": {
    "colab": {
     "base_uri": "https://localhost:8080/",
     "height": 263
    },
    "colab_type": "code",
    "executionInfo": {
     "elapsed": 2190,
     "status": "ok",
     "timestamp": 1591105832903,
     "user": {
      "displayName": "Taewan Kim",
      "photoUrl": "https://lh3.googleusercontent.com/a-/AOh14GhKX1DdTDXcKx_bNWR0FKjtb6P5Ma_fOxQCZvS-=s64",
      "userId": "13184421950357533683"
     },
     "user_tz": -600
    },
    "id": "7L77n5vZU7k3",
    "outputId": "8884e5b4-6108-4dbc-8dd2-49a668612366"
   },
   "outputs": [
    {
     "data": {
      "text/html": [
       "<div>\n",
       "<style scoped>\n",
       "    .dataframe tbody tr th:only-of-type {\n",
       "        vertical-align: middle;\n",
       "    }\n",
       "\n",
       "    .dataframe tbody tr th {\n",
       "        vertical-align: top;\n",
       "    }\n",
       "\n",
       "    .dataframe thead th {\n",
       "        text-align: right;\n",
       "    }\n",
       "</style>\n",
       "<table border=\"1\" class=\"dataframe\">\n",
       "  <thead>\n",
       "    <tr style=\"text-align: right;\">\n",
       "      <th></th>\n",
       "      <th>CR</th>\n",
       "      <th>ASR</th>\n",
       "    </tr>\n",
       "  </thead>\n",
       "  <tbody>\n",
       "    <tr>\n",
       "      <th>DPGRGT</th>\n",
       "      <td>43.16</td>\n",
       "      <td>0.6418</td>\n",
       "    </tr>\n",
       "    <tr>\n",
       "      <th>DDPG_GL_TF</th>\n",
       "      <td>11.93</td>\n",
       "      <td>0.2813</td>\n",
       "    </tr>\n",
       "    <tr>\n",
       "      <th>DDPG_RP_TF</th>\n",
       "      <td>-5.45</td>\n",
       "      <td>-0.1343</td>\n",
       "    </tr>\n",
       "    <tr>\n",
       "      <th>DDPG_TF</th>\n",
       "      <td>-41.71</td>\n",
       "      <td>-0.8191</td>\n",
       "    </tr>\n",
       "    <tr>\n",
       "      <th>DDPG</th>\n",
       "      <td>-42.91</td>\n",
       "      <td>-1.2194</td>\n",
       "    </tr>\n",
       "    <tr>\n",
       "      <th>UCRP</th>\n",
       "      <td>0.53</td>\n",
       "      <td>0.0125</td>\n",
       "    </tr>\n",
       "    <tr>\n",
       "      <th>MPT</th>\n",
       "      <td>-50.07</td>\n",
       "      <td>-1.5840</td>\n",
       "    </tr>\n",
       "  </tbody>\n",
       "</table>\n",
       "</div>"
      ],
      "text/plain": [
       "               CR     ASR\n",
       "DPGRGT      43.16  0.6418\n",
       "DDPG_GL_TF  11.93  0.2813\n",
       "DDPG_RP_TF  -5.45 -0.1343\n",
       "DDPG_TF    -41.71 -0.8191\n",
       "DDPG       -42.91 -1.2194\n",
       "UCRP         0.53  0.0125\n",
       "MPT        -50.07 -1.5840"
      ]
     },
     "metadata": {
      "tags": []
     },
     "output_type": "display_data"
    }
   ],
   "source": [
    "eval_data = {\n",
    "    'CR': [np.round((dfs[model][-1])*100/dfs[model][0] - 100, 2) for model in dfs.columns],\n",
    "    'ASR':[np.round(sharpe_ratio(np.diff(np.array(dfs[model]))),4) for model in dfs.columns]\n",
    "}\n",
    "eval_df = pd.DataFrame(data=eval_data, index=dfs.columns)\n",
    "display(eval_df)"
   ]
  },
  {
   "cell_type": "markdown",
   "metadata": {
    "colab_type": "text",
    "id": "cYmM0vHOpPwN"
   },
   "source": [
    "# References"
   ]
  },
  {
   "cell_type": "markdown",
   "metadata": {
    "colab_type": "text",
    "id": "qo1WEF2QpO5e"
   },
   "source": [
    "1. Abdi, F., & Ranaldo, A. (2017). A Simple Estimation of Bid-Ask Spreads from Daily Close, High, and Low Prices. *The Review of Financial Studies, 30*(12), 4437-4480. doi:10.1093/rfs/hhx084\n",
    "1. Aboussalah, A. M., & Lee, C.-G. (2020). Continuous control with Stacked Deep Dynamic Recurrent Reinforcement Learning for portfolio optimization. *Expert Syst. Appl., 140*. doi:10.1016/j.eswa.2019.112891\n",
    "1. Bahdanau, D., Cho, K., & Bengio, Y. (2014). Neural Machine Translation by Jointly Learning to Align and Translate. *CoRR, abs/1409.0473*. \n",
    "1. Cho, K., van Merriënboer, B., Gulcehre, C., Bougares, F., Schwenk, H., & Bengio, Y. (2014). Learning Phrase Representations using RNN Encoder-Decoder for Statistical Machine Translation. doi:10.3115/v1/D14-1179\n",
    "1. Huang, C.-Z. A., Vaswani, A., Uszkoreit, J., Simon, I., Hawthorne, C., Shazeer, N., Eck, D. (2019). *Music Transformer: Generating Music with Long-Term Structure*. Paper presented at the ICLR.\n",
    "1. Kaelbling, L. P., Littman, M. L., & Cassandra, A. R. (1998). Planning and acting in partially observable stochastic domains. *Artificial Intelligence*, 101(1), 99-134. doi:10.1016/S0004-3702(98)00023-X\n",
    "1. Lillicrap, T. P., Hunt, J. J., Pritzel, A., Heess, N. M. O., Erez, T., Tassa, Y., Wierstra, D. (2015). Continuous control with deep reinforcement learning. *CoRR, abs/1509.02971*.\n",
    "1. Moody, J., & Saffell, M. (2001). Learning to trade via direct reinforcement. *IEEE transactions on neural networks / a publication of the IEEE Neural Networks Council, 12*, 875-889. doi:10.1109/72.935097\n",
    "1. Parisotto, E., Song, H. F., Rae, J. W., Pascanu, R., Gulcehre, C., Jayakumar, S. M., Hadsell, R. (2019). Stabilizing Transformers for Reinforcement Learning. *ArXiv, abs/1910.06764*. \n",
    "1. Shaw, P., Uszkoreit, J., & Vaswani, A. (2018). Self-Attention with Relative Position Representations. \n",
    "1. Silver, D., Lever, G., Heess, N., Degris, T., Wierstra, D., & Riedmiller, M. (2014). *Deterministic policy gradient algorithms*. Paper presented at the Proceedings of the 31st International Conference on International Conference on Machine Learning - Volume 32, Beijing, China. \n",
    "1. Vaswani, A., Shazeer, N., Parmar, N., Uszkoreit, J., Jones, L., Gomez, A. N., Polosukhin, I. (2017). *Attention is All you Need*. Paper presented at the NIPS.\n",
    "1. Zhang, Z., Chen, J., Chen, Z., & Li, W. (2019). *Asynchronous Episodic Deep Deterministic Policy Gradient: Towards Continuous Control in Computationally Complex Environments*.\n"
   ]
  }
 ],
 "metadata": {
  "accelerator": "GPU",
  "colab": {
   "authorship_tag": "ABX9TyPLvHhkcDxOS9dhDaKLYq67",
   "collapsed_sections": [],
   "mount_file_id": "1-6yen-6mWKohlX8skboSvU8OtS2ONJ9d",
   "name": "DRLPortfolio.ipynb",
   "provenance": [],
   "toc_visible": true
  },
  "kernelspec": {
   "display_name": "Python 3",
   "language": "python",
   "name": "python3"
  },
  "language_info": {
   "codemirror_mode": {
    "name": "ipython",
    "version": 3
   },
   "file_extension": ".py",
   "mimetype": "text/x-python",
   "name": "python",
   "nbconvert_exporter": "python",
   "pygments_lexer": "ipython3",
   "version": "3.6.9"
  }
 },
 "nbformat": 4,
 "nbformat_minor": 1
}
